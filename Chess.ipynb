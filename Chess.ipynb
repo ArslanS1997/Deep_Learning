{
  "nbformat": 4,
  "nbformat_minor": 0,
  "metadata": {
    "colab": {
      "name": "Chess.ipynb",
      "provenance": [],
      "mount_file_id": "1V4Djy0eu64XwQzUMx_MHE8iL5YqIHD87",
      "authorship_tag": "ABX9TyO7e8eVjie/YsRj/lNZgnKO",
      "include_colab_link": true
    },
    "kernelspec": {
      "name": "python3",
      "display_name": "Python 3"
    }
  },
  "cells": [
    {
      "cell_type": "markdown",
      "metadata": {
        "id": "view-in-github",
        "colab_type": "text"
      },
      "source": [
        "<a href=\"https://colab.research.google.com/github/ArslanS1997/Deep_Learning/blob/master/Chess.ipynb\" target=\"_parent\"><img src=\"https://colab.research.google.com/assets/colab-badge.svg\" alt=\"Open In Colab\"/></a>"
      ]
    },
    {
      "cell_type": "code",
      "metadata": {
        "id": "AK8quCOGQ0fl"
      },
      "source": [
        "import pgn\n",
        "import sys\n",
        "\n",
        "f = open('/content/drive/My Drive/Chess/Carlsen.pgn')\n",
        "pgn_text = f.read()\n",
        "f.close()\n",
        "games = pgn.loads(pgn_text)\n",
        "for game in games:\n",
        "    print(game.moves)"
      ],
      "execution_count": null,
      "outputs": []
    },
    {
      "cell_type": "code",
      "metadata": {
        "colab": {
          "base_uri": "https://localhost:8080/",
          "height": 200
        },
        "id": "5sSpl8XYSB9l",
        "outputId": "a7c4d7dd-aadb-49c9-b3a7-db13fbb868ae"
      },
      "source": [
        "import chess.pgn \n",
        "png_folder = open('/content/drive/My Drive/Chess/Carlsen.pgn')\n",
        "current_game = chess.pgn.read_game(png_folder)\n",
        "png_text = str(current_game.mainlines_moves())"
      ],
      "execution_count": 11,
      "outputs": [
        {
          "output_type": "error",
          "ename": "AttributeError",
          "evalue": "ignored",
          "traceback": [
            "\u001b[0;31m---------------------------------------------------------------------------\u001b[0m",
            "\u001b[0;31mAttributeError\u001b[0m                            Traceback (most recent call last)",
            "\u001b[0;32m<ipython-input-11-3930dfc065b7>\u001b[0m in \u001b[0;36m<module>\u001b[0;34m()\u001b[0m\n\u001b[1;32m      2\u001b[0m \u001b[0mpng_folder\u001b[0m \u001b[0;34m=\u001b[0m \u001b[0mopen\u001b[0m\u001b[0;34m(\u001b[0m\u001b[0;34m'/content/drive/My Drive/Chess/Carlsen.pgn'\u001b[0m\u001b[0;34m)\u001b[0m\u001b[0;34m\u001b[0m\u001b[0;34m\u001b[0m\u001b[0m\n\u001b[1;32m      3\u001b[0m \u001b[0mcurrent_game\u001b[0m \u001b[0;34m=\u001b[0m \u001b[0mchess\u001b[0m\u001b[0;34m.\u001b[0m\u001b[0mpgn\u001b[0m\u001b[0;34m.\u001b[0m\u001b[0mread_game\u001b[0m\u001b[0;34m(\u001b[0m\u001b[0mpng_folder\u001b[0m\u001b[0;34m)\u001b[0m\u001b[0;34m\u001b[0m\u001b[0;34m\u001b[0m\u001b[0m\n\u001b[0;32m----> 4\u001b[0;31m \u001b[0mpng_text\u001b[0m \u001b[0;34m=\u001b[0m \u001b[0mstr\u001b[0m\u001b[0;34m(\u001b[0m\u001b[0mcurrent_game\u001b[0m\u001b[0;34m.\u001b[0m\u001b[0mmainlines_moves\u001b[0m\u001b[0;34m(\u001b[0m\u001b[0;34m)\u001b[0m\u001b[0;34m)\u001b[0m\u001b[0;34m\u001b[0m\u001b[0;34m\u001b[0m\u001b[0m\n\u001b[0m",
            "\u001b[0;31mAttributeError\u001b[0m: 'Game' object has no attribute 'mainlines_moves'"
          ]
        }
      ]
    },
    {
      "cell_type": "code",
      "metadata": {
        "id": "O1FteJJWRX8q"
      },
      "source": [
        "import os\n",
        "os.chdir(\"/content/drive/My Drive/chess/\")"
      ],
      "execution_count": 4,
      "outputs": []
    },
    {
      "cell_type": "code",
      "metadata": {
        "id": "c6oZkrPfSass"
      },
      "source": [
        "import chess.pgn\n",
        "\n",
        "f = open(\"/content/drive/My Drive/Chess/Carlsen.pgn\")\n",
        "\n",
        "my_list = []\n",
        "\n",
        "while True:\n",
        "    game = chess.pgn.read_game(f)\n",
        "    if game is None:\n",
        "        break  # end of file\n",
        "\n",
        "    my_list.append(game)"
      ],
      "execution_count": 12,
      "outputs": []
    },
    {
      "cell_type": "code",
      "metadata": {
        "colab": {
          "base_uri": "https://localhost:8080/"
        },
        "id": "e72ddKV5ROPY",
        "outputId": "66dc9ad6-82b9-43e3-8a9d-d4b65287aee8"
      },
      "source": [
        "!pip install pgnparser"
      ],
      "execution_count": 3,
      "outputs": [
        {
          "output_type": "stream",
          "text": [
            "Collecting pgnparser\n",
            "  Downloading https://files.pythonhosted.org/packages/ef/70/427a456b842325c8e59bea2c41d724ad297824e17431efeaa1074fd330bf/pgnparser-1.0.zip\n",
            "Building wheels for collected packages: pgnparser\n",
            "  Building wheel for pgnparser (setup.py) ... \u001b[?25l\u001b[?25hdone\n",
            "  Created wheel for pgnparser: filename=pgnparser-1.0-cp36-none-any.whl size=3887 sha256=54953af89c8d2d7c8150b4ebe56598f41707eb69258ab69d96a0d3306a538fa2\n",
            "  Stored in directory: /root/.cache/pip/wheels/41/da/d2/cb5cac4e69a364141b24f14b6c638e9e2963436aff434ef918\n",
            "Successfully built pgnparser\n",
            "Installing collected packages: pgnparser\n",
            "Successfully installed pgnparser-1.0\n"
          ],
          "name": "stdout"
        }
      ]
    },
    {
      "cell_type": "code",
      "metadata": {
        "colab": {
          "base_uri": "https://localhost:8080/"
        },
        "id": "ccJ1PxugQ8eV",
        "outputId": "dbb60fec-200e-47f3-f961-d14a7dc41965"
      },
      "source": [
        "from google.colab import drive\n",
        "drive.mount('/content/drive')"
      ],
      "execution_count": 5,
      "outputs": [
        {
          "output_type": "stream",
          "text": [
            "Drive already mounted at /content/drive; to attempt to forcibly remount, call drive.mount(\"/content/drive\", force_remount=True).\n"
          ],
          "name": "stdout"
        }
      ]
    },
    {
      "cell_type": "code",
      "metadata": {
        "colab": {
          "base_uri": "https://localhost:8080/"
        },
        "id": "JYVA4_UvRcIl",
        "outputId": "67505503-8f2e-4055-88c4-b0a9cf1f687f"
      },
      "source": [
        "print(len(my_list))"
      ],
      "execution_count": 13,
      "outputs": [
        {
          "output_type": "stream",
          "text": [
            "2851\n"
          ],
          "name": "stdout"
        }
      ]
    },
    {
      "cell_type": "code",
      "metadata": {
        "colab": {
          "base_uri": "https://localhost:8080/"
        },
        "id": "FIcHUpabRye7",
        "outputId": "05508c62-a354-4ac6-e783-326abbc42a57"
      },
      "source": [
        "my_list[0]"
      ],
      "execution_count": 16,
      "outputs": [
        {
          "output_type": "execute_result",
          "data": {
            "text/plain": [
              "<chess.pgn.Game at 0x7fdcf26ada58>"
            ]
          },
          "metadata": {
            "tags": []
          },
          "execution_count": 16
        }
      ]
    },
    {
      "cell_type": "code",
      "metadata": {
        "id": "NwPFx5YWSmhL"
      },
      "source": [
        ""
      ],
      "execution_count": null,
      "outputs": []
    }
  ]
}